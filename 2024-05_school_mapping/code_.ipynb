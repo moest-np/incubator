{
 "cells": [
  {
   "cell_type": "code",
   "execution_count": 1,
   "id": "b9e83fe1",
   "metadata": {},
   "outputs": [
    {
     "name": "stdout",
     "output_type": "stream",
     "text": [
      "Requirement already satisfied: rapidfuzz in c:\\users\\asus\\anaconda3\\lib\\site-packages (3.9.3)\n",
      "Requirement already satisfied: deep-translator in c:\\users\\asus\\anaconda3\\lib\\site-packages (1.11.4)\n",
      "Requirement already satisfied: beautifulsoup4<5.0.0,>=4.9.1 in c:\\users\\asus\\anaconda3\\lib\\site-packages (from deep-translator) (4.11.1)\n",
      "Requirement already satisfied: requests<3.0.0,>=2.23.0 in c:\\users\\asus\\anaconda3\\lib\\site-packages (from deep-translator) (2.28.1)\n",
      "Requirement already satisfied: soupsieve>1.2 in c:\\users\\asus\\anaconda3\\lib\\site-packages (from beautifulsoup4<5.0.0,>=4.9.1->deep-translator) (2.3.1)\n",
      "Requirement already satisfied: idna<4,>=2.5 in c:\\users\\asus\\anaconda3\\lib\\site-packages (from requests<3.0.0,>=2.23.0->deep-translator) (3.3)\n",
      "Requirement already satisfied: urllib3<1.27,>=1.21.1 in c:\\users\\asus\\anaconda3\\lib\\site-packages (from requests<3.0.0,>=2.23.0->deep-translator) (1.26.11)\n",
      "Requirement already satisfied: certifi>=2017.4.17 in c:\\users\\asus\\anaconda3\\lib\\site-packages (from requests<3.0.0,>=2.23.0->deep-translator) (2022.9.14)\n",
      "Requirement already satisfied: charset-normalizer<3,>=2 in c:\\users\\asus\\anaconda3\\lib\\site-packages (from requests<3.0.0,>=2.23.0->deep-translator) (2.0.4)\n"
     ]
    }
   ],
   "source": [
    "# Install the rapidfuzz package for fuzzy string matching\n",
    "!pip install rapidfuzz\n",
    "\n",
    "# Install the deep-translator package for translating text\n",
    "!pip install deep-translator\n"
   ]
  },
  {
   "cell_type": "code",
   "execution_count": 3,
   "id": "faf31314",
   "metadata": {},
   "outputs": [],
   "source": [
    "# Step 2: Import necessary libraries\n",
    "import pandas as pd\n",
    "from deep_translator import GoogleTranslator\n",
    "from rapidfuzz import process, fuzz\n",
    "\n",
    "# Step 3: Load the datasets\n",
    "school_list_A = pd.read_csv('data/school_list_A.tsv', sep='\\t')\n",
    "school_list_B = pd.read_csv('data/school_list_B.tsv', sep='\\t')\n",
    "jillla = pd.read_csv('data/jilla.csv')\n"
   ]
  },
  {
   "cell_type": "code",
   "execution_count": 4,
   "id": "caca840c",
   "metadata": {},
   "outputs": [
    {
     "name": "stdout",
     "output_type": "stream",
     "text": [
      "Index(['पाँचथर'], dtype='object')\n"
     ]
    }
   ],
   "source": [
    "# Step 4: Inspect the columns of jillla to find the correct column name\n",
    "print(jillla.columns)\n"
   ]
  },
  {
   "cell_type": "code",
   "execution_count": 5,
   "id": "7c0a379b",
   "metadata": {},
   "outputs": [],
   "source": [
    "# Step 5: Use the actual column name in Devanagari script\n",
    "nepali_district_column = jillla.columns[0]\n",
    "\n",
    "# Step 6: Translate district names from Nepali to English\n",
    "district_map = {}\n",
    "for nepali_district in jillla[nepali_district_column].unique():\n",
    "    if pd.notna(nepali_district):\n",
    "        english_district = GoogleTranslator(source='ne', target='en').translate(nepali_district)\n",
    "        district_map[nepali_district] = english_district\n"
   ]
  },
  {
   "cell_type": "code",
   "execution_count": 6,
   "id": "e48dddf3",
   "metadata": {},
   "outputs": [],
   "source": [
    "# Step 7: Map translated district names to school_list_A\n",
    "school_list_A['district_eng'] = school_list_A['district1'].map(district_map)\n",
    "\n",
    "# Step 8: Handle NaN values in school_list_A\n",
    "school_list_A.dropna(subset=['district_eng', 'velthuis'], inplace=True)\n"
   ]
  },
  {
   "cell_type": "code",
   "execution_count": 7,
   "id": "9ec962d0",
   "metadata": {},
   "outputs": [],
   "source": [
    "# Step 9: Prepare the results DataFrame and match schools\n",
    "results = []\n",
    "\n",
    "# Match schools in Source A to Source B within the same district\n",
    "for _, school_a in school_list_A.iterrows():\n",
    "    district = school_a['district_eng']\n",
    "    if pd.isna(district):\n",
    "        continue  # Skip if district mapping is not found\n",
    "    \n",
    "    candidates = school_list_B[school_list_B['district'] == district]\n",
    "    \n",
    "    # Combine name and previous names in Source B for fuzzy matching\n",
    "    names_b = candidates['name'].dropna().tolist()\n",
    "    if 'old_name1' in candidates.columns:\n",
    "        names_b += candidates['old_name1'].dropna().tolist()\n",
    "    if 'old_name2' in candidates.columns:\n",
    "        names_b += candidates['old_name2'].dropna().tolist()\n",
    "    if 'old_name3' in candidates.columns:\n",
    "        names_b += candidates['old_name3'].dropna().tolist()\n",
    "    \n",
    "    # Perform fuzzy matching\n",
    "    matches = process.extract(school_a['velthuis'], names_b, scorer=fuzz.ratio, limit=1)\n",
    "    \n",
    "    if matches:\n",
    "        best_match = matches[0]\n",
    "        # Find the matching school_id from candidates\n",
    "        matched_school = candidates[candidates.isin([best_match[0]]).any(axis=1)].iloc[0]\n",
    "        results.append({\n",
    "            'school_id_a': school_a['school_id'],\n",
    "            'school_id_b': matched_school['school_id'],\n",
    "            'confidence': best_match[1]\n",
    "        })\n"
   ]
  },
  {
   "cell_type": "code",
   "execution_count": 9,
   "id": "cb6abed5",
   "metadata": {},
   "outputs": [],
   "source": [
    "# Step 10: Convert results to DataFrame and save\n",
    "results_df = pd.DataFrame(results)\n",
    "results_df.to_csv('school_mapping_results.csv', index=False)\n"
   ]
  },
  {
   "cell_type": "code",
   "execution_count": 10,
   "id": "0443c40e",
   "metadata": {},
   "outputs": [],
   "source": [
    "school_mapping_results = pd.read_csv('school_mapping_results.csv')"
   ]
  },
  {
   "cell_type": "code",
   "execution_count": 11,
   "id": "3a12ef12",
   "metadata": {},
   "outputs": [
    {
     "data": {
      "text/html": [
       "<div>\n",
       "<style scoped>\n",
       "    .dataframe tbody tr th:only-of-type {\n",
       "        vertical-align: middle;\n",
       "    }\n",
       "\n",
       "    .dataframe tbody tr th {\n",
       "        vertical-align: top;\n",
       "    }\n",
       "\n",
       "    .dataframe thead th {\n",
       "        text-align: right;\n",
       "    }\n",
       "</style>\n",
       "<table border=\"1\" class=\"dataframe\">\n",
       "  <thead>\n",
       "    <tr style=\"text-align: right;\">\n",
       "      <th></th>\n",
       "      <th>school_id_a</th>\n",
       "      <th>school_id_b</th>\n",
       "      <th>confidence</th>\n",
       "    </tr>\n",
       "  </thead>\n",
       "  <tbody>\n",
       "    <tr>\n",
       "      <th>0</th>\n",
       "      <td>1</td>\n",
       "      <td>12425</td>\n",
       "      <td>50.980392</td>\n",
       "    </tr>\n",
       "    <tr>\n",
       "      <th>1</th>\n",
       "      <td>2</td>\n",
       "      <td>13833</td>\n",
       "      <td>53.608247</td>\n",
       "    </tr>\n",
       "    <tr>\n",
       "      <th>2</th>\n",
       "      <td>3</td>\n",
       "      <td>12763</td>\n",
       "      <td>62.500000</td>\n",
       "    </tr>\n",
       "    <tr>\n",
       "      <th>3</th>\n",
       "      <td>4</td>\n",
       "      <td>4391</td>\n",
       "      <td>48.936170</td>\n",
       "    </tr>\n",
       "    <tr>\n",
       "      <th>4</th>\n",
       "      <td>5</td>\n",
       "      <td>434</td>\n",
       "      <td>57.534247</td>\n",
       "    </tr>\n",
       "    <tr>\n",
       "      <th>...</th>\n",
       "      <td>...</td>\n",
       "      <td>...</td>\n",
       "      <td>...</td>\n",
       "    </tr>\n",
       "    <tr>\n",
       "      <th>20344</th>\n",
       "      <td>29831</td>\n",
       "      <td>34332</td>\n",
       "      <td>43.298969</td>\n",
       "    </tr>\n",
       "    <tr>\n",
       "      <th>20345</th>\n",
       "      <td>29832</td>\n",
       "      <td>71662</td>\n",
       "      <td>53.061224</td>\n",
       "    </tr>\n",
       "    <tr>\n",
       "      <th>20346</th>\n",
       "      <td>29833</td>\n",
       "      <td>2174</td>\n",
       "      <td>57.142857</td>\n",
       "    </tr>\n",
       "    <tr>\n",
       "      <th>20347</th>\n",
       "      <td>29834</td>\n",
       "      <td>36059</td>\n",
       "      <td>55.000000</td>\n",
       "    </tr>\n",
       "    <tr>\n",
       "      <th>20348</th>\n",
       "      <td>29836</td>\n",
       "      <td>74249</td>\n",
       "      <td>50.434783</td>\n",
       "    </tr>\n",
       "  </tbody>\n",
       "</table>\n",
       "<p>20349 rows × 3 columns</p>\n",
       "</div>"
      ],
      "text/plain": [
       "       school_id_a  school_id_b  confidence\n",
       "0                1        12425   50.980392\n",
       "1                2        13833   53.608247\n",
       "2                3        12763   62.500000\n",
       "3                4         4391   48.936170\n",
       "4                5          434   57.534247\n",
       "...            ...          ...         ...\n",
       "20344        29831        34332   43.298969\n",
       "20345        29832        71662   53.061224\n",
       "20346        29833         2174   57.142857\n",
       "20347        29834        36059   55.000000\n",
       "20348        29836        74249   50.434783\n",
       "\n",
       "[20349 rows x 3 columns]"
      ]
     },
     "execution_count": 11,
     "metadata": {},
     "output_type": "execute_result"
    }
   ],
   "source": [
    "school_mapping_results"
   ]
  },
  {
   "cell_type": "code",
   "execution_count": null,
   "id": "598d8ca2",
   "metadata": {},
   "outputs": [],
   "source": []
  }
 ],
 "metadata": {
  "kernelspec": {
   "display_name": "Python 3 (ipykernel)",
   "language": "python",
   "name": "python3"
  },
  "language_info": {
   "codemirror_mode": {
    "name": "ipython",
    "version": 3
   },
   "file_extension": ".py",
   "mimetype": "text/x-python",
   "name": "python",
   "nbconvert_exporter": "python",
   "pygments_lexer": "ipython3",
   "version": "3.9.13"
  }
 },
 "nbformat": 4,
 "nbformat_minor": 5
}
